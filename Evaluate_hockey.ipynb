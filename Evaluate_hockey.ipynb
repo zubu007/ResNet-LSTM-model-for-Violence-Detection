{
 "metadata": {
  "language_info": {
   "codemirror_mode": {
    "name": "ipython",
    "version": 3
   },
   "file_extension": ".py",
   "mimetype": "text/x-python",
   "name": "python",
   "nbconvert_exporter": "python",
   "pygments_lexer": "ipython3",
   "version": "3.7.3"
  },
  "orig_nbformat": 2,
  "kernelspec": {
   "name": "python373jvsc74a57bd09164a3399a70d355c381b62813f30880ed90ca5a6f321bf0d85375640bda7ee5",
   "display_name": "Python 3.7.3 64-bit"
  },
  "metadata": {
   "interpreter": {
    "hash": "9164a3399a70d355c381b62813f30880ed90ca5a6f321bf0d85375640bda7ee5"
   }
  }
 },
 "nbformat": 4,
 "nbformat_minor": 2,
 "cells": [
  {
   "cell_type": "code",
   "execution_count": 1,
   "metadata": {},
   "outputs": [],
   "source": [
    "import numpy as np\n",
    "import os\n",
    "import cv2\n",
    "import keras\n",
    "import sklearn\n",
    "import pandas\n",
    "from time import time\n",
    "import tensorflow as tf\n",
    "from sklearn.model_selection import train_test_split\n",
    "from keras.models import Sequential\n",
    "from keras.utils import to_categorical\n",
    "from keras.models import load_model\n",
    "from keras.layers import *\n",
    "from keras import layers\n",
    "from keras import Model\n",
    "from keras import optimizers\n",
    "from keras import regularizers\n",
    "from keras.callbacks import TensorBoard\n",
    "from keras import optimizers\n",
    "import matplotlib.pyplot as plt\n",
    "from keras.applications import *\n",
    "from sklearn.metrics import classification_report\n",
    "import time"
   ]
  },
  {
   "cell_type": "code",
   "execution_count": 2,
   "metadata": {},
   "outputs": [],
   "source": [
    "IMG_SIZE = 224\n",
    "DATA_PATH = 'F:/Machine_Learning/Projects/paper_implementation/Paper_2_GoogleNet/Hockey_fights/Dataframes'"
   ]
  },
  {
   "cell_type": "code",
   "execution_count": 3,
   "metadata": {},
   "outputs": [],
   "source": [
    "violent_frames = []\n",
    "non_violent_frames = []\n",
    "c = 0\n",
    "for frames in os.listdir(DATA_PATH):\n",
    "    frame = cv2.resize(cv2.imread(os.path.join(DATA_PATH,frames)), (IMG_SIZE, IMG_SIZE))\n",
    "\n",
    "    if c < 20057:\n",
    "        violent_frames.append(frame)\n",
    "    elif c >= 20057:\n",
    "        non_violent_frames.append(frame)\n",
    "    c += 1    \n",
    "\n",
    "np.save('hockey_data_for_raw_model_violent.npy', violent_frames)\n",
    "np.save('hockey_data_for_raw_model_nonviolent.npy', non_violent_frames)"
   ]
  },
  {
   "cell_type": "code",
   "execution_count": 2,
   "metadata": {},
   "outputs": [],
   "source": [
    "violent_frames = np.load('hockey_data_for_raw_model_violent.npy', allow_pickle= True)\n",
    "non_violent_frames = np.load('hockey_data_for_raw_model_nonviolent.npy', allow_pickle= True)"
   ]
  },
  {
   "cell_type": "code",
   "execution_count": 3,
   "metadata": {},
   "outputs": [
    {
     "output_type": "stream",
     "name": "stdout",
     "text": [
      "20057\n19999\n"
     ]
    }
   ],
   "source": [
    "print(len(violent_frames))\n",
    "print(len(non_violent_frames))"
   ]
  },
  {
   "cell_type": "code",
   "execution_count": 4,
   "metadata": {},
   "outputs": [
    {
     "output_type": "stream",
     "name": "stdout",
     "text": [
      "+++ Extracting feature... +++\nBefore Feature extraction: \n(20057, 224, 224, 3) (19999, 224, 224, 3)\n"
     ]
    }
   ],
   "source": [
    "print(\"+++ Extracting feature... +++\")\n",
    "    \n",
    "violent_frames = np.asarray(violent_frames)\n",
    "non_violent_frames = np.asarray(non_violent_frames)\n",
    "\n",
    "print (\"Before Feature extraction: \")\n",
    "print(violent_frames.shape,non_violent_frames.shape)\n",
    "# all_data = np.vstack((violent_frames,non_violent_frames))\n",
    "# print(\"Adding all data: \", all_data.shape)"
   ]
  },
  {
   "cell_type": "code",
   "execution_count": 5,
   "metadata": {},
   "outputs": [],
   "source": [
    "loaded_model = resnet50.ResNet50(input_shape=(224,224,3), include_top=False)\n",
    "loaded_model = Model(loaded_model.input,loaded_model.output)"
   ]
  },
  {
   "cell_type": "code",
   "execution_count": 6,
   "metadata": {},
   "outputs": [
    {
     "output_type": "stream",
     "name": "stdout",
     "text": [
      "2006/2006 [==============================] - 880s 439ms/step\n"
     ]
    }
   ],
   "source": [
    "with tf.device('/cpu'):\n",
    "    features_violent = loaded_model.predict(violent_frames,batch_size=10,verbose=1)\n",
    "np.save('resnet__hockey_feature_violent.npy', np.asarray(features_violent))"
   ]
  },
  {
   "cell_type": "code",
   "execution_count": 7,
   "metadata": {},
   "outputs": [
    {
     "output_type": "stream",
     "name": "stdout",
     "text": [
      "2000/2000 [==============================] - 863s 431ms/step\n"
     ]
    }
   ],
   "source": [
    "with tf.device('/cpu'):\n",
    "    features_nonviolent = loaded_model.predict(non_violent_frames,batch_size=10,verbose=1)\n",
    "np.save('resnet__hockey_feature_nonviolent.npy', np.asarray(features_nonviolent))"
   ]
  },
  {
   "cell_type": "code",
   "execution_count": 2,
   "metadata": {},
   "outputs": [],
   "source": [
    "features_violent = np.load('resnet__hockey_feature_violent.npy', allow_pickle = True)\n",
    "features_nonviolent = np.load('resnet__hockey_feature_nonviolent.npy', allow_pickle = True)"
   ]
  },
  {
   "cell_type": "code",
   "execution_count": 3,
   "metadata": {},
   "outputs": [
    {
     "output_type": "stream",
     "name": "stdout",
     "text": [
      "Violent features:  (19980, 7, 7, 2048)\nNon Violent features:  (19980, 7, 7, 2048)\n"
     ]
    }
   ],
   "source": [
    "violent_features = features_violent[0:19980]\n",
    "non_violent_features = features_nonviolent[-19980:]\n",
    "print(\"Violent features: \", violent_features.shape)\n",
    "print(\"Non Violent features: \", non_violent_features.shape)"
   ]
  },
  {
   "cell_type": "code",
   "execution_count": 4,
   "metadata": {},
   "outputs": [],
   "source": [
    "violent_vid = []\n",
    "non_violent_vid = []\n",
    "\n",
    "i = 0\n",
    "while i < len(violent_features):\n",
    "    violent_vid.append(np.array(violent_features[i:i+30]))\n",
    "    i = i+30\n",
    "\n",
    "i = 0\n",
    "while i < len(non_violent_features):\n",
    "    non_violent_vid.append(np.array(non_violent_features[i:i+30]))\n",
    "    i = i+30\n",
    "\n",
    "violent_vid = np.asarray(violent_vid)\n",
    "non_violent_vid = np.asarray(non_violent_vid)"
   ]
  },
  {
   "cell_type": "code",
   "execution_count": 5,
   "metadata": {},
   "outputs": [],
   "source": [
    "violent_y, non_violent_y = np.zeros(len(violent_vid)), np.ones(len(non_violent_vid))"
   ]
  },
  {
   "cell_type": "code",
   "execution_count": 6,
   "metadata": {},
   "outputs": [
    {
     "output_type": "stream",
     "name": "stdout",
     "text": [
      "Violent Video Seq:  (666, 30, 7, 7, 2048) Non_violent video Seq:  (666, 30, 7, 7, 2048)\nViolent Label:  (666,) Non_violent Label:  (666,)\n"
     ]
    }
   ],
   "source": [
    "#Special Case for this paper only. \n",
    "#Violent = 0\n",
    "#Non violent = 1\n",
    "\n",
    "print(\"Violent Video Seq: \", violent_vid.shape,\"Non_violent video Seq: \", non_violent_vid.shape)\n",
    "print(\"Violent Label: \", violent_y.shape, \"Non_violent Label: \", non_violent_y.shape)"
   ]
  },
  {
   "cell_type": "code",
   "execution_count": 7,
   "metadata": {},
   "outputs": [
    {
     "output_type": "stream",
     "name": "stdout",
     "text": [
      "(1332, 30, 100352)\n(1332,)\n"
     ]
    }
   ],
   "source": [
    "X = np.vstack((violent_vid,non_violent_vid))\n",
    "y = np.append(violent_y, non_violent_y)\n",
    "X = np.reshape(X,(X.shape[0],X.shape[1],X.shape[2]*X.shape[3]*X.shape[4]))\n",
    "print(X.shape)\n",
    "print(y.shape)"
   ]
  },
  {
   "cell_type": "code",
   "execution_count": 8,
   "metadata": {},
   "outputs": [
    {
     "output_type": "stream",
     "name": "stdout",
     "text": [
      "Model: \"sequential_1\"\n_________________________________________________________________\nLayer (type)                 Output Shape              Param #   \n=================================================================\ncu_dnnlstm (CuDNNLSTM)       (None, 50)                20080800  \n_________________________________________________________________\ndense (Dense)                (None, 1)                 51        \n=================================================================\nTotal params: 20,080,851\nTrainable params: 20,080,851\nNon-trainable params: 0\n_________________________________________________________________\n"
     ]
    }
   ],
   "source": [
    "model = load_model('./resnet_LSTM_model.h5')\n",
    "model.load_weights('./resnet_LSTM_weights.h5')\n",
    "model.summary()"
   ]
  },
  {
   "cell_type": "code",
   "execution_count": 9,
   "metadata": {},
   "outputs": [
    {
     "output_type": "stream",
     "name": "stdout",
     "text": [
      "267/267 [==============================] - 31s 36ms/step - loss: 1.1996 - accuracy: 0.5278\n"
     ]
    },
    {
     "output_type": "execute_result",
     "data": {
      "text/plain": [
       "[1.1996160745620728, 0.5277777910232544]"
      ]
     },
     "metadata": {},
     "execution_count": 9
    }
   ],
   "source": [
    "model.evaluate(x = X, y =y, batch_size= 5, verbose = 1)"
   ]
  },
  {
   "cell_type": "code",
   "execution_count": null,
   "metadata": {},
   "outputs": [],
   "source": []
  }
 ]
}