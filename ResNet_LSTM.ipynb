{
 "metadata": {
  "language_info": {
   "codemirror_mode": {
    "name": "ipython",
    "version": 3
   },
   "file_extension": ".py",
   "mimetype": "text/x-python",
   "name": "python",
   "nbconvert_exporter": "python",
   "pygments_lexer": "ipython3",
   "version": "3.7.3"
  },
  "orig_nbformat": 2,
  "kernelspec": {
   "name": "python373jvsc74a57bd09164a3399a70d355c381b62813f30880ed90ca5a6f321bf0d85375640bda7ee5",
   "display_name": "Python 3.7.3 64-bit"
  },
  "metadata": {
   "interpreter": {
    "hash": "9164a3399a70d355c381b62813f30880ed90ca5a6f321bf0d85375640bda7ee5"
   }
  }
 },
 "nbformat": 4,
 "nbformat_minor": 2,
 "cells": [
  {
   "cell_type": "code",
   "execution_count": 1,
   "metadata": {},
   "outputs": [],
   "source": [
    "import numpy as np\n",
    "import os\n",
    "import cv2\n",
    "import keras\n",
    "import sklearn\n",
    "import pandas\n",
    "from time import time\n",
    "import tensorflow as tf\n",
    "from sklearn.model_selection import train_test_split\n",
    "from keras.models import Sequential\n",
    "from keras.utils import to_categorical\n",
    "from keras.models import load_model\n",
    "from keras.layers import *\n",
    "from keras import layers\n",
    "from keras import Model\n",
    "from keras import optimizers\n",
    "from keras import regularizers\n",
    "from keras.callbacks import TensorBoard\n",
    "from keras import optimizers\n",
    "import matplotlib.pyplot as plt\n",
    "from keras.applications import *\n",
    "from sklearn.metrics import classification_report\n",
    "import time"
   ]
  },
  {
   "cell_type": "code",
   "execution_count": 2,
   "metadata": {},
   "outputs": [
    {
     "output_type": "stream",
     "name": "stdout",
     "text": [
      "(30787, 7, 7, 2048)\n"
     ]
    }
   ],
   "source": [
    "feature = np.load(\"resnet_feature.npy\")\n",
    "print(feature.shape)"
   ]
  },
  {
   "cell_type": "code",
   "execution_count": 3,
   "metadata": {},
   "outputs": [
    {
     "output_type": "stream",
     "name": "stdout",
     "text": [
      "Violent features:  (13410, 7, 7, 2048)\nNon Violent features:  (13410, 7, 7, 2048)\n"
     ]
    }
   ],
   "source": [
    "violent_features = feature[0:13410]\n",
    "non_violent_features = feature[-13410:]\n",
    "print(\"Violent features: \", violent_features.shape)\n",
    "print(\"Non Violent features: \", non_violent_features.shape)"
   ]
  },
  {
   "cell_type": "code",
   "execution_count": 32,
   "metadata": {},
   "outputs": [
    {
     "output_type": "stream",
     "name": "stdout",
     "text": [
      "(3, 30, 7, 7, 2048)\n"
     ]
    }
   ],
   "source": [
    "Test_array = []\n",
    "\n",
    "Test_array.append(np.array(violent_features[0:30]))\n",
    "Test_array.append(np.array(violent_features[30:60]))\n",
    "Test_array.append(np.array(violent_features[60:90]))\n",
    "test_array = np.asarray(Test_array)\n",
    "print(test_array.shape)"
   ]
  },
  {
   "cell_type": "code",
   "execution_count": 4,
   "metadata": {},
   "outputs": [],
   "source": [
    "violent_vid = []\n",
    "non_violent_vid = []\n",
    "\n",
    "i = 0\n",
    "while i < len(violent_features):\n",
    "    violent_vid.append(np.array(violent_features[i:i+30]))\n",
    "    i = i+30\n",
    "\n",
    "i = 0\n",
    "while i < len(non_violent_features):\n",
    "    non_violent_vid.append(np.array(non_violent_features[i:i+30]))\n",
    "    i = i+30\n",
    "\n",
    "violent_vid = np.asarray(violent_vid)\n",
    "non_violent_vid = np.asarray(non_violent_vid)"
   ]
  },
  {
   "cell_type": "code",
   "execution_count": 40,
   "metadata": {},
   "outputs": [
    {
     "output_type": "execute_result",
     "data": {
      "text/plain": [
       "(447, 30, 7, 7, 2048)"
      ]
     },
     "metadata": {},
     "execution_count": 40
    }
   ],
   "source": [
    "violent_vid.shape"
   ]
  },
  {
   "cell_type": "code",
   "execution_count": 5,
   "metadata": {},
   "outputs": [],
   "source": [
    "violent_y, non_violent_y = np.zeros(len(violent_vid)), np.ones(len(non_violent_vid))"
   ]
  },
  {
   "cell_type": "code",
   "execution_count": 6,
   "metadata": {},
   "outputs": [
    {
     "output_type": "stream",
     "name": "stdout",
     "text": [
      "Violent Video Seq:  (447, 30, 7, 7, 2048) Non_violent video Seq:  (447, 30, 7, 7, 2048)\nViolent Label:  (447,) Non_violent Label:  (447,)\n"
     ]
    }
   ],
   "source": [
    "#Special Case for this paper only. \n",
    "#Violent = 0\n",
    "#Non violent = 1\n",
    "\n",
    "print(\"Violent Video Seq: \", violent_vid.shape,\"Non_violent video Seq: \", non_violent_vid.shape)\n",
    "print(\"Violent Label: \", violent_y.shape, \"Non_violent Label: \", non_violent_y.shape)"
   ]
  },
  {
   "cell_type": "code",
   "execution_count": 7,
   "metadata": {},
   "outputs": [
    {
     "output_type": "stream",
     "name": "stdout",
     "text": [
      "(894, 30, 100352)\n(894,)\n"
     ]
    }
   ],
   "source": [
    "X = np.vstack((violent_vid,non_violent_vid))\n",
    "y = np.append(violent_y, non_violent_y)\n",
    "X = np.reshape(X,(X.shape[0],X.shape[1],X.shape[2]*X.shape[3]*X.shape[4]))\n",
    "print(X.shape)\n",
    "print(y.shape)"
   ]
  },
  {
   "cell_type": "code",
   "execution_count": 8,
   "metadata": {},
   "outputs": [
    {
     "output_type": "stream",
     "name": "stdout",
     "text": [
      "(715, 30, 100352) (179, 30, 100352) (715,) (179,)\n"
     ]
    }
   ],
   "source": [
    "X_train, X_test, y_train, y_test = train_test_split(X,y, random_state=42, test_size=0.2)\n",
    "print(X_train.shape,X_test.shape,y_train.shape, y_test.shape)"
   ]
  },
  {
   "cell_type": "code",
   "execution_count": 10,
   "metadata": {},
   "outputs": [
    {
     "output_type": "stream",
     "name": "stdout",
     "text": [
      "Model: \"sequential_1\"\n_________________________________________________________________\nLayer (type)                 Output Shape              Param #   \n=================================================================\ncu_dnnlstm (CuDNNLSTM)       (None, 50)                20080800  \n_________________________________________________________________\ndense (Dense)                (None, 1)                 51        \n=================================================================\nTotal params: 20,080,851\nTrainable params: 20,080,851\nNon-trainable params: 0\n_________________________________________________________________\n"
     ]
    }
   ],
   "source": [
    "model = Sequential()\n",
    "model.add(tf.compat.v1.keras.layers.CuDNNLSTM(50, input_shape=(X.shape[1],X.shape[2]), return_sequences=False, kernel_regularizer=regularizers.l2(0.01)))\n",
    "model.add(Dense(1,activation='sigmoid'))\n",
    "model.summary()"
   ]
  },
  {
   "cell_type": "code",
   "execution_count": 11,
   "metadata": {},
   "outputs": [],
   "source": [
    "optimizer = optimizers.Adam(lr=0.001,decay=0.004)\n",
    "model.compile(loss=\"binary_crossentropy\",optimizer=optimizer,metrics=[\"accuracy\"])\n"
   ]
  },
  {
   "cell_type": "code",
   "execution_count": 12,
   "metadata": {},
   "outputs": [
    {
     "output_type": "stream",
     "name": "stdout",
     "text": [
      "Epoch 1/20\n",
      "45/45 [==============================] - 13s 137ms/step - loss: 3.2927 - accuracy: 0.5795 - val_loss: 1.5082 - val_accuracy: 0.5922\n",
      "Epoch 2/20\n",
      "45/45 [==============================] - 6s 125ms/step - loss: 1.2597 - accuracy: 0.7263 - val_loss: 1.0025 - val_accuracy: 0.8827\n",
      "Epoch 3/20\n",
      "45/45 [==============================] - 6s 124ms/step - loss: 0.9304 - accuracy: 0.8852 - val_loss: 0.8563 - val_accuracy: 0.8883\n",
      "Epoch 4/20\n",
      "45/45 [==============================] - 6s 126ms/step - loss: 0.7983 - accuracy: 0.9161 - val_loss: 0.7433 - val_accuracy: 0.9050\n",
      "Epoch 5/20\n",
      "45/45 [==============================] - 6s 125ms/step - loss: 0.7139 - accuracy: 0.9461 - val_loss: 0.6489 - val_accuracy: 0.9497\n",
      "Epoch 6/20\n",
      "45/45 [==============================] - 6s 126ms/step - loss: 0.6596 - accuracy: 0.9413 - val_loss: 0.6536 - val_accuracy: 0.9553\n",
      "Epoch 7/20\n",
      "45/45 [==============================] - 6s 126ms/step - loss: 0.6438 - accuracy: 0.9560 - val_loss: 0.5622 - val_accuracy: 0.9553\n",
      "Epoch 8/20\n",
      "45/45 [==============================] - 6s 124ms/step - loss: 0.5105 - accuracy: 0.9882 - val_loss: 0.5440 - val_accuracy: 0.9777\n",
      "Epoch 9/20\n",
      "45/45 [==============================] - 6s 126ms/step - loss: 0.5192 - accuracy: 0.9835 - val_loss: 0.4658 - val_accuracy: 0.9777\n",
      "Epoch 10/20\n",
      "45/45 [==============================] - 6s 125ms/step - loss: 0.4368 - accuracy: 0.9912 - val_loss: 0.4352 - val_accuracy: 0.9832\n",
      "Epoch 11/20\n",
      "45/45 [==============================] - 6s 126ms/step - loss: 0.3824 - accuracy: 0.9884 - val_loss: 0.3195 - val_accuracy: 0.9888\n",
      "Epoch 12/20\n",
      "45/45 [==============================] - 6s 125ms/step - loss: 0.2788 - accuracy: 0.9960 - val_loss: 0.2736 - val_accuracy: 0.9832\n",
      "Epoch 13/20\n",
      "45/45 [==============================] - 6s 126ms/step - loss: 0.2463 - accuracy: 0.9956 - val_loss: 0.2706 - val_accuracy: 0.9832\n",
      "Epoch 14/20\n",
      "45/45 [==============================] - 6s 127ms/step - loss: 0.2224 - accuracy: 0.9945 - val_loss: 0.2139 - val_accuracy: 0.9832\n",
      "Epoch 15/20\n",
      "45/45 [==============================] - 6s 125ms/step - loss: 0.2011 - accuracy: 0.9961 - val_loss: 0.2382 - val_accuracy: 0.9832\n",
      "Epoch 16/20\n",
      "45/45 [==============================] - 6s 124ms/step - loss: 0.2054 - accuracy: 0.9955 - val_loss: 0.1995 - val_accuracy: 0.9888\n",
      "Epoch 17/20\n",
      "45/45 [==============================] - 6s 123ms/step - loss: 0.1650 - accuracy: 0.9915 - val_loss: 0.1460 - val_accuracy: 0.9944\n",
      "Epoch 18/20\n",
      "45/45 [==============================] - 6s 124ms/step - loss: 0.1328 - accuracy: 0.9949 - val_loss: 0.1621 - val_accuracy: 0.9777\n",
      "Epoch 19/20\n",
      "45/45 [==============================] - 6s 125ms/step - loss: 0.1370 - accuracy: 0.9987 - val_loss: 0.1397 - val_accuracy: 0.9888\n",
      "Epoch 20/20\n",
      "45/45 [==============================] - 6s 123ms/step - loss: 0.1203 - accuracy: 0.9927 - val_loss: 0.1259 - val_accuracy: 0.9832\n"
     ]
    }
   ],
   "source": [
    "start = time.time()\n",
    "model.fit(X_train,y_train, epochs=20, verbose=1, validation_data=(X_test,y_test), batch_size=16)\n",
    "end = time.time()"
   ]
  },
  {
   "cell_type": "code",
   "execution_count": 14,
   "metadata": {},
   "outputs": [],
   "source": [
    "model.save('resnet_LSMT_model.h5', overwrite= True, include_optimizer=True)\n",
    "model.save_weights(\"resnet_LSTM_weights.h5\", overwrite=True)"
   ]
  },
  {
   "cell_type": "code",
   "execution_count": null,
   "metadata": {},
   "outputs": [],
   "source": []
  }
 ]
}